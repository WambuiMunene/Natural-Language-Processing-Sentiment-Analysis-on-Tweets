{
 "cells": [
  {
   "cell_type": "markdown",
   "id": "79f71d89",
   "metadata": {},
   "source": [
    "## Building a Natural Language Processing (NLP) Model that Rates the Sentiment of Tweets about Apple and Google Products as Positive, Negative or Neutral."
   ]
  },
  {
   "cell_type": "markdown",
   "id": "8f41c5ff",
   "metadata": {},
   "source": [
    "+ **Student:** Wambui Munene\n",
    "+ **Student pace:** DSPT08\n",
    "+ **Scheduled project review date/time:** 12/02/2025 23.59 Hours\n",
    "+ **Instructor name:** Samuel Karu"
   ]
  },
  {
   "cell_type": "markdown",
   "id": "deaf77a4",
   "metadata": {},
   "source": [
    "## Project Summary"
   ]
  },
  {
   "cell_type": "markdown",
   "id": "8eafed66",
   "metadata": {},
   "source": [
    "### Business and Data Understanding\n",
    "\n",
    "The objective of this project is to build a Natural Language Processing (NLP) model that rates the sentiment of tweets about Apple and Google products as positive, negative or neutral. The dataset used to build the model is sourced from CrowdFlower via data.world https://data.world/crowdflower/brands-and-product-emotions. This dataset consists of slightly over 9,000 human-rated tweets.\n",
    "\n",
    "Sentiment Analysis is a powerful tool that provides businesses with deep insights into public perception of their products and services. By leveraging sentiment analysis, companies can effectively gauge customer sentiment and understand the emotional tone behind customer interactions. This enables businesses to identify  areas of concern in real-time, allowing them to proactively address customer needs and improve their offerings.\n",
    "\n",
    "Social media is a dynamic and widespread platform where customers freely express their thoughts and feelings about products, services, and brands.Using social media platforms like X (formerly twitter) to gauge sentiments is immensely valuable for businesses as it provides real-time and unfiltered insights into customer opinions and experiences. \n",
    "\n",
    "By analyzing these sentiments, companies can tap into a wealth of authentic feedback that traditional surveys or feedback forms might miss. This immediate access to customer sentiment enables businesses to swiftly identify trends, preferences, and potential issues, allowing for proactive engagement and timely adjustments to strategies.\n",
    "\n",
    "Additionally, sentiment analysis can be useful in understanding the broader market landscape, and how competitors are faring and tailor products to match or exceed market expectations."
   ]
  },
  {
   "cell_type": "markdown",
   "id": "024ce65f",
   "metadata": {},
   "source": [
    "### 1. Data Preparation\n",
    "Data preparation involved the following key steps that are critical for preparing text data for modeling:-\n",
    "1. **Dataset Loading and Cleaning:**\n",
    "- Loaded the dataset\n",
    "- Renamed column names and labels for better readability\n",
    "- Dealt with missing values\n",
    "\n",
    "2. **Data Splitting:**\n",
    " - Split the data into training, validation and test sets. The training set was set at 70% of the data while the validation and test sets will be 15% respectively. \n",
    " - The validation set was used to tune the hyperparameters and choose the best model configuration without overfitting the test data.\n",
    " \n",
    "3. **Text Transformation:** \n",
    "- Used Regular Expressions (REGEX) to remove irrelevant information such as URLs,mentions(@) and hastags(#).\n",
    "- Converted all text to lowercase to ensure uniformity\n",
    "- Applied lemmatization to reduce words to their base forms for consistent analysis and reducing complexity\n",
    "- Removed stop words (common words that typically do not carry significant meaning such as \"the,\" \"is,\" \"in,\" \"and,\" etc.). This helped in focusing on more meaningful words in the text, leading to better performance of NLP models.\n",
    "- Tokenize the cleaned text\n",
    "\n",
    "4. **Vectorization of Text Data:**\n",
    "- Transformed the cleaned text data into numerical representation (vectors) using Term Frequency-Inverse Document Frequency(TF-IDF). This technique evaluates the importance of a word in a document relative to a corpus.\n",
    "- Adjusted the ngram-range paramemter in the TF-IDF vectorizer to include both unigram(single words) bigram(pair of executive words) to capture context, enriching the feature set and enhancing the model performance.\n",
    "\n",
    "\n",
    "5. **Exploratory Data Analysis (EDA):**\n",
    " - Analyzed the distribution of sentiment labels (positive, negative,neutral) using bar charts and value counts to understand class balance.\n",
    " - Visualized the top 10 most common words in the data set.\n",
    " - Created word clouds for positive, negative and neutral tweets to visualize most common words in each sentimenclass\n",
    " - Visualized bigrams using bar charts to identify common word pairs in the data set, and for each sentiment class\n",
    " \n",
    " \n",
    " \n",
    " "
   ]
  },
  {
   "cell_type": "code",
   "execution_count": 1,
   "id": "726fbfe5",
   "metadata": {},
   "outputs": [],
   "source": [
    "# A list of libraries used in the Data Preparation Process: \n",
    "\n",
    "# Regular Expressions (re): For cleaning text data\n",
    "import re \n",
    "\n",
    "# NLTK (Natural Language Toolkit): For tokenization, stop words removal, and lemmatization.\n",
    "import nltk\n",
    "from nltk.corpus import stopwords\n",
    "from nltk.tokenize import word_tokenize\n",
    "from nltk.stem import WordNetLemmatizer\n",
    "\n",
    "\n",
    "# Scikit-learn: For TF-IDF vectorization\n",
    "from sklearn.feature_extraction.text import TfidfVectorizer\n",
    "\n",
    "\n",
    "# Pandas, Matplotlib and Seaborn for data manipulation and analysis and visualizations\n",
    "import pandas as pd\n",
    "import matplotlib.pyplot as plt\n",
    "import seaborn as sns\n",
    "\n",
    "# WordCloud: For generating word clouds.\n",
    "from wordcloud import WordCloud\n"
   ]
  },
  {
   "cell_type": "markdown",
   "id": "8ab5ae63",
   "metadata": {},
   "source": [
    "### 2. Modeling\n",
    "The project utilized a combination of baseline models and advanced neural networks on the cleaned and vectorized data.\n",
    "\n",
    "- Created pipelines to streamline data preprocessing (Normalizethe TF-IDF vectors using StandardScaler from Scikit-learn to ensure fair comparisons accross different features),model training and evaluation.This ensured a reproducible and efficient workflow, and minimized the risk of data leakage.\n",
    "- Initial models included Logistic Regression and Naive Bayes. These models were tuned using GridSearchCV, to find the best hyperparameters, and incorporated cross-validation to prevent overfitting. The optimal hyperparameters were then used on the validation set to fine-tune model performance.\n",
    "- For advanced modeling, Convolutional Neural Networks (CNNs) were implemented to capture local patterns within the text data. - - The accuracy of the CNN model were compared to those of the baseline models to evaluate their performance improvements.\n",
    "- After identifying the best-performing model, it was evaluated on the test set to provide an unbiased assessment of its generalization capability. The final test confirmed the model's robustness and accuracy in predicting sentiment on unseen data.\n",
    "\n"
   ]
  },
  {
   "cell_type": "code",
   "execution_count": 2,
   "id": "381ef0ae",
   "metadata": {},
   "outputs": [],
   "source": [
    "# Scikit-learn for normalization.\n",
    "from sklearn.preprocessing import StandardScaler,MinMaxScaler\n",
    "\n",
    "#Scikit-learn for creating pipelines, training models, hyperparameter tuning, and evaluation.\n",
    "from sklearn.pipeline import Pipeline\n",
    "from sklearn.linear_model import LogisticRegression\n",
    "from sklearn.naive_bayes import MultinomialNB\n",
    "from sklearn.model_selection import GridSearchCV, train_test_split\n",
    "from sklearn.metrics import accuracy_score, roc_auc_score\n",
    "\n",
    "# TensorFlow/Keras for building and training Convolutional Neural Networks (CNNs).\n",
    "import tensorflow as tf\n",
    "from tensorflow.keras.models import Sequential\n",
    "from tensorflow.keras.layers import Conv1D, MaxPooling1D, Flatten, Dense, Embedding\n",
    "\n"
   ]
  },
  {
   "cell_type": "markdown",
   "id": "aba45928",
   "metadata": {},
   "source": [
    "### 3. Evaluation \n",
    "The model's performance was evaluated using the following metrics:\n",
    "\n",
    "- Accuracy: This metric was used to measure the overall correctness of the model's predictions. It represents the proportion of correct predictions out of the total number of predictions.\n",
    "\n",
    "- Confusion Matrix: This matrix was be used to provide a detailed breakdown of the model's performance by showing the counts of true positive, true negative, false positive, and false negative predictions. It helped to identify the types of errors the models were making and provided insights into its classification accuracy."
   ]
  },
  {
   "cell_type": "code",
   "execution_count": 3,
   "id": "a58a31c5",
   "metadata": {},
   "outputs": [],
   "source": [
    "# Scikit-learn for calculating accuracy and generating the confusion matrix\n",
    "from sklearn.metrics import accuracy_score, confusion_matrix"
   ]
  },
  {
   "cell_type": "markdown",
   "id": "8a2c2fe8",
   "metadata": {},
   "source": [
    "### 1.1 Load and Clean the Dataset\n"
   ]
  },
  {
   "cell_type": "code",
   "execution_count": 4,
   "id": "08cfd2d1",
   "metadata": {},
   "outputs": [],
   "source": [
    "# Import the necessary libraries for data analysis and visualization\n",
    "import numpy as np\n",
    "import pandas as pd\n",
    "import matplotlib.pyplot as plt\n",
    "import seaborn as sns\n",
    "sns.set()\n",
    "%matplotlib inline\n"
   ]
  },
  {
   "cell_type": "code",
   "execution_count": 5,
   "id": "b064604c",
   "metadata": {},
   "outputs": [
    {
     "data": {
      "text/html": [
       "<div>\n",
       "<style scoped>\n",
       "    .dataframe tbody tr th:only-of-type {\n",
       "        vertical-align: middle;\n",
       "    }\n",
       "\n",
       "    .dataframe tbody tr th {\n",
       "        vertical-align: top;\n",
       "    }\n",
       "\n",
       "    .dataframe thead th {\n",
       "        text-align: right;\n",
       "    }\n",
       "</style>\n",
       "<table border=\"1\" class=\"dataframe\">\n",
       "  <thead>\n",
       "    <tr style=\"text-align: right;\">\n",
       "      <th></th>\n",
       "      <th>tweet_text</th>\n",
       "      <th>emotion_in_tweet_is_directed_at</th>\n",
       "      <th>is_there_an_emotion_directed_at_a_brand_or_product</th>\n",
       "    </tr>\n",
       "  </thead>\n",
       "  <tbody>\n",
       "    <tr>\n",
       "      <th>0</th>\n",
       "      <td>.@wesley83 I have a 3G iPhone. After 3 hrs twe...</td>\n",
       "      <td>iPhone</td>\n",
       "      <td>Negative emotion</td>\n",
       "    </tr>\n",
       "    <tr>\n",
       "      <th>1</th>\n",
       "      <td>@jessedee Know about @fludapp ? Awesome iPad/i...</td>\n",
       "      <td>iPad or iPhone App</td>\n",
       "      <td>Positive emotion</td>\n",
       "    </tr>\n",
       "    <tr>\n",
       "      <th>2</th>\n",
       "      <td>@swonderlin Can not wait for #iPad 2 also. The...</td>\n",
       "      <td>iPad</td>\n",
       "      <td>Positive emotion</td>\n",
       "    </tr>\n",
       "    <tr>\n",
       "      <th>3</th>\n",
       "      <td>@sxsw I hope this year's festival isn't as cra...</td>\n",
       "      <td>iPad or iPhone App</td>\n",
       "      <td>Negative emotion</td>\n",
       "    </tr>\n",
       "    <tr>\n",
       "      <th>4</th>\n",
       "      <td>@sxtxstate great stuff on Fri #SXSW: Marissa M...</td>\n",
       "      <td>Google</td>\n",
       "      <td>Positive emotion</td>\n",
       "    </tr>\n",
       "    <tr>\n",
       "      <th>5</th>\n",
       "      <td>@teachntech00 New iPad Apps For #SpeechTherapy...</td>\n",
       "      <td>NaN</td>\n",
       "      <td>No emotion toward brand or product</td>\n",
       "    </tr>\n",
       "    <tr>\n",
       "      <th>6</th>\n",
       "      <td>NaN</td>\n",
       "      <td>NaN</td>\n",
       "      <td>No emotion toward brand or product</td>\n",
       "    </tr>\n",
       "    <tr>\n",
       "      <th>7</th>\n",
       "      <td>#SXSW is just starting, #CTIA is around the co...</td>\n",
       "      <td>Android</td>\n",
       "      <td>Positive emotion</td>\n",
       "    </tr>\n",
       "    <tr>\n",
       "      <th>8</th>\n",
       "      <td>Beautifully smart and simple idea RT @madebyma...</td>\n",
       "      <td>iPad or iPhone App</td>\n",
       "      <td>Positive emotion</td>\n",
       "    </tr>\n",
       "    <tr>\n",
       "      <th>9</th>\n",
       "      <td>Counting down the days to #sxsw plus strong Ca...</td>\n",
       "      <td>Apple</td>\n",
       "      <td>Positive emotion</td>\n",
       "    </tr>\n",
       "  </tbody>\n",
       "</table>\n",
       "</div>"
      ],
      "text/plain": [
       "                                          tweet_text  \\\n",
       "0  .@wesley83 I have a 3G iPhone. After 3 hrs twe...   \n",
       "1  @jessedee Know about @fludapp ? Awesome iPad/i...   \n",
       "2  @swonderlin Can not wait for #iPad 2 also. The...   \n",
       "3  @sxsw I hope this year's festival isn't as cra...   \n",
       "4  @sxtxstate great stuff on Fri #SXSW: Marissa M...   \n",
       "5  @teachntech00 New iPad Apps For #SpeechTherapy...   \n",
       "6                                                NaN   \n",
       "7  #SXSW is just starting, #CTIA is around the co...   \n",
       "8  Beautifully smart and simple idea RT @madebyma...   \n",
       "9  Counting down the days to #sxsw plus strong Ca...   \n",
       "\n",
       "  emotion_in_tweet_is_directed_at  \\\n",
       "0                          iPhone   \n",
       "1              iPad or iPhone App   \n",
       "2                            iPad   \n",
       "3              iPad or iPhone App   \n",
       "4                          Google   \n",
       "5                             NaN   \n",
       "6                             NaN   \n",
       "7                         Android   \n",
       "8              iPad or iPhone App   \n",
       "9                           Apple   \n",
       "\n",
       "  is_there_an_emotion_directed_at_a_brand_or_product  \n",
       "0                                   Negative emotion  \n",
       "1                                   Positive emotion  \n",
       "2                                   Positive emotion  \n",
       "3                                   Negative emotion  \n",
       "4                                   Positive emotion  \n",
       "5                 No emotion toward brand or product  \n",
       "6                 No emotion toward brand or product  \n",
       "7                                   Positive emotion  \n",
       "8                                   Positive emotion  \n",
       "9                                   Positive emotion  "
      ]
     },
     "execution_count": 5,
     "metadata": {},
     "output_type": "execute_result"
    }
   ],
   "source": [
    "# Load the data as a DataFrame and display the first 10 columns\n",
    "df = pd.read_csv('tweet_product_company.csv', encoding='ISO-8859-1')\n",
    "df.head(10)"
   ]
  },
  {
   "cell_type": "markdown",
   "id": "fa3d4680",
   "metadata": {},
   "source": [
    "This data set consists of tweets mainly focussed on apple and google products showing positive, negative or neutral emotions"
   ]
  },
  {
   "cell_type": "code",
   "execution_count": 6,
   "id": "479b370c",
   "metadata": {},
   "outputs": [
    {
     "name": "stdout",
     "output_type": "stream",
     "text": [
      "This data set consists of 9093 rows\n",
      "This data set consists of 3 columns\n"
     ]
    }
   ],
   "source": [
    "# check the shape of the data\n",
    "df.shape\n",
    "print(f\"This data set consists of {df.shape[0]} rows\")\n",
    "print(f\"This data set consists of {df.shape[1]} columns\")"
   ]
  },
  {
   "cell_type": "code",
   "execution_count": 7,
   "id": "bb0d2308",
   "metadata": {},
   "outputs": [
    {
     "data": {
      "text/plain": [
       "Index(['tweet_text', 'emotion_in_tweet_is_directed_at',\n",
       "       'is_there_an_emotion_directed_at_a_brand_or_product'],\n",
       "      dtype='object')"
      ]
     },
     "execution_count": 7,
     "metadata": {},
     "output_type": "execute_result"
    }
   ],
   "source": [
    "# Get column names\n",
    "df.columns"
   ]
  },
  {
   "cell_type": "markdown",
   "id": "feaa9f0a",
   "metadata": {},
   "source": [
    "The three columns are of the object data type; the names of the columns are rather wordy, so I will rename the column names to more user-friendly names."
   ]
  },
  {
   "cell_type": "code",
   "execution_count": 8,
   "id": "b3bbf8d7",
   "metadata": {},
   "outputs": [
    {
     "data": {
      "text/html": [
       "<div>\n",
       "<style scoped>\n",
       "    .dataframe tbody tr th:only-of-type {\n",
       "        vertical-align: middle;\n",
       "    }\n",
       "\n",
       "    .dataframe tbody tr th {\n",
       "        vertical-align: top;\n",
       "    }\n",
       "\n",
       "    .dataframe thead th {\n",
       "        text-align: right;\n",
       "    }\n",
       "</style>\n",
       "<table border=\"1\" class=\"dataframe\">\n",
       "  <thead>\n",
       "    <tr style=\"text-align: right;\">\n",
       "      <th></th>\n",
       "      <th>tweet</th>\n",
       "      <th>product</th>\n",
       "      <th>sentiment</th>\n",
       "    </tr>\n",
       "  </thead>\n",
       "  <tbody>\n",
       "    <tr>\n",
       "      <th>0</th>\n",
       "      <td>.@wesley83 I have a 3G iPhone. After 3 hrs twe...</td>\n",
       "      <td>iPhone</td>\n",
       "      <td>Negative emotion</td>\n",
       "    </tr>\n",
       "    <tr>\n",
       "      <th>1</th>\n",
       "      <td>@jessedee Know about @fludapp ? Awesome iPad/i...</td>\n",
       "      <td>iPad or iPhone App</td>\n",
       "      <td>Positive emotion</td>\n",
       "    </tr>\n",
       "    <tr>\n",
       "      <th>2</th>\n",
       "      <td>@swonderlin Can not wait for #iPad 2 also. The...</td>\n",
       "      <td>iPad</td>\n",
       "      <td>Positive emotion</td>\n",
       "    </tr>\n",
       "    <tr>\n",
       "      <th>3</th>\n",
       "      <td>@sxsw I hope this year's festival isn't as cra...</td>\n",
       "      <td>iPad or iPhone App</td>\n",
       "      <td>Negative emotion</td>\n",
       "    </tr>\n",
       "    <tr>\n",
       "      <th>4</th>\n",
       "      <td>@sxtxstate great stuff on Fri #SXSW: Marissa M...</td>\n",
       "      <td>Google</td>\n",
       "      <td>Positive emotion</td>\n",
       "    </tr>\n",
       "  </tbody>\n",
       "</table>\n",
       "</div>"
      ],
      "text/plain": [
       "                                               tweet             product  \\\n",
       "0  .@wesley83 I have a 3G iPhone. After 3 hrs twe...              iPhone   \n",
       "1  @jessedee Know about @fludapp ? Awesome iPad/i...  iPad or iPhone App   \n",
       "2  @swonderlin Can not wait for #iPad 2 also. The...                iPad   \n",
       "3  @sxsw I hope this year's festival isn't as cra...  iPad or iPhone App   \n",
       "4  @sxtxstate great stuff on Fri #SXSW: Marissa M...              Google   \n",
       "\n",
       "          sentiment  \n",
       "0  Negative emotion  \n",
       "1  Positive emotion  \n",
       "2  Positive emotion  \n",
       "3  Negative emotion  \n",
       "4  Positive emotion  "
      ]
     },
     "execution_count": 8,
     "metadata": {},
     "output_type": "execute_result"
    }
   ],
   "source": [
    "# Rename column names\n",
    "df.rename(columns={\n",
    "    'tweet_text': 'tweet',\n",
    "    'emotion_in_tweet_is_directed_at': 'product',\n",
    "    'is_there_an_emotion_directed_at_a_brand_or_product': 'sentiment'\n",
    "}, inplace=True)\n",
    "\n",
    "df.head()"
   ]
  },
  {
   "cell_type": "markdown",
   "id": "d1c74074",
   "metadata": {},
   "source": [
    "The column names have been successfully renamed"
   ]
  },
  {
   "cell_type": "code",
   "execution_count": 9,
   "id": "ff6398d5",
   "metadata": {},
   "outputs": [
    {
     "name": "stdout",
     "output_type": "stream",
     "text": [
      "<class 'pandas.core.frame.DataFrame'>\n",
      "RangeIndex: 9093 entries, 0 to 9092\n",
      "Data columns (total 3 columns):\n",
      " #   Column     Non-Null Count  Dtype \n",
      "---  ------     --------------  ----- \n",
      " 0   tweet      9092 non-null   object\n",
      " 1   product    3291 non-null   object\n",
      " 2   sentiment  9093 non-null   object\n",
      "dtypes: object(3)\n",
      "memory usage: 213.2+ KB\n"
     ]
    }
   ],
   "source": [
    "# Get column attributes\n",
    "df.info()"
   ]
  },
  {
   "cell_type": "markdown",
   "id": "65e6e747",
   "metadata": {},
   "source": [
    "There are significant null values under the product column accounting to more than 60% of the data set. I will first try to fill this column with either Apple or Google if the tweet contains the word iphone, ipad or google. Then fill all the remaining NAN values with 'unknown'."
   ]
  },
  {
   "cell_type": "code",
   "execution_count": 10,
   "id": "74a5ab7f",
   "metadata": {},
   "outputs": [
    {
     "data": {
      "text/plain": [
       "product\n",
       "iPad                               946\n",
       "Apple                              661\n",
       "iPad or iPhone App                 470\n",
       "Google                             430\n",
       "iPhone                             297\n",
       "Other Google product or service    293\n",
       "Android App                         81\n",
       "Android                             78\n",
       "Other Apple product or service      35\n",
       "Name: count, dtype: int64"
      ]
     },
     "execution_count": 10,
     "metadata": {},
     "output_type": "execute_result"
    }
   ],
   "source": [
    "# Get value counts to see the distribution of products\n",
    "df['product'].value_counts()"
   ]
  },
  {
   "cell_type": "markdown",
   "id": "9646e1de",
   "metadata": {},
   "source": [
    "The product distribution seems quite repetitive. All google products will be labelled Google while all Apple products(ipads/iphone) will be labelled Apple."
   ]
  },
  {
   "cell_type": "code",
   "execution_count": 11,
   "id": "fc359835",
   "metadata": {},
   "outputs": [
    {
     "data": {
      "text/html": [
       "<div>\n",
       "<style scoped>\n",
       "    .dataframe tbody tr th:only-of-type {\n",
       "        vertical-align: middle;\n",
       "    }\n",
       "\n",
       "    .dataframe tbody tr th {\n",
       "        vertical-align: top;\n",
       "    }\n",
       "\n",
       "    .dataframe thead th {\n",
       "        text-align: right;\n",
       "    }\n",
       "</style>\n",
       "<table border=\"1\" class=\"dataframe\">\n",
       "  <thead>\n",
       "    <tr style=\"text-align: right;\">\n",
       "      <th></th>\n",
       "      <th>tweet</th>\n",
       "      <th>product</th>\n",
       "      <th>sentiment</th>\n",
       "    </tr>\n",
       "  </thead>\n",
       "  <tbody>\n",
       "    <tr>\n",
       "      <th>0</th>\n",
       "      <td>.@wesley83 I have a 3G iPhone. After 3 hrs twe...</td>\n",
       "      <td>Apple</td>\n",
       "      <td>Negative emotion</td>\n",
       "    </tr>\n",
       "    <tr>\n",
       "      <th>1</th>\n",
       "      <td>@jessedee Know about @fludapp ? Awesome iPad/i...</td>\n",
       "      <td>Apple</td>\n",
       "      <td>Positive emotion</td>\n",
       "    </tr>\n",
       "    <tr>\n",
       "      <th>2</th>\n",
       "      <td>@swonderlin Can not wait for #iPad 2 also. The...</td>\n",
       "      <td>Apple</td>\n",
       "      <td>Positive emotion</td>\n",
       "    </tr>\n",
       "    <tr>\n",
       "      <th>3</th>\n",
       "      <td>@sxsw I hope this year's festival isn't as cra...</td>\n",
       "      <td>Apple</td>\n",
       "      <td>Negative emotion</td>\n",
       "    </tr>\n",
       "    <tr>\n",
       "      <th>4</th>\n",
       "      <td>@sxtxstate great stuff on Fri #SXSW: Marissa M...</td>\n",
       "      <td>Google</td>\n",
       "      <td>Positive emotion</td>\n",
       "    </tr>\n",
       "  </tbody>\n",
       "</table>\n",
       "</div>"
      ],
      "text/plain": [
       "                                               tweet product         sentiment\n",
       "0  .@wesley83 I have a 3G iPhone. After 3 hrs twe...   Apple  Negative emotion\n",
       "1  @jessedee Know about @fludapp ? Awesome iPad/i...   Apple  Positive emotion\n",
       "2  @swonderlin Can not wait for #iPad 2 also. The...   Apple  Positive emotion\n",
       "3  @sxsw I hope this year's festival isn't as cra...   Apple  Negative emotion\n",
       "4  @sxtxstate great stuff on Fri #SXSW: Marissa M...  Google  Positive emotion"
      ]
     },
     "execution_count": 11,
     "metadata": {},
     "output_type": "execute_result"
    }
   ],
   "source": [
    "# Define a function to categorize products\n",
    "def categorize_product(tweet):\n",
    "    if pd.isnull(tweet):\n",
    "        return 'unknown'\n",
    "    tweet = tweet.lower()\n",
    "    if 'iphone' in tweet or 'ipad' in tweet or 'apple' in tweet:\n",
    "        return 'Apple'\n",
    "    elif 'google' in tweet or 'android' in tweet:\n",
    "        return 'Google'\n",
    "    else:\n",
    "        return 'unknown'\n",
    "\n",
    "# Apply the function to the 'tweet' column and fill the 'product' column\n",
    "df['product'] = df['tweet'].apply(categorize_product)\n",
    "\n",
    "# Verify the changes\n",
    "df.head()\n"
   ]
  },
  {
   "cell_type": "code",
   "execution_count": 12,
   "id": "65633bab",
   "metadata": {},
   "outputs": [
    {
     "data": {
      "text/plain": [
       "product\n",
       "Apple      5525\n",
       "Google     2781\n",
       "unknown     787\n",
       "Name: count, dtype: int64"
      ]
     },
     "execution_count": 12,
     "metadata": {},
     "output_type": "execute_result"
    }
   ],
   "source": [
    " df['product'].value_counts()"
   ]
  },
  {
   "cell_type": "markdown",
   "id": "1d896065",
   "metadata": {},
   "source": [
    "This has immensely improved the product labeling. I will drop the unknown rows as they consist of less than 10% of the dataset."
   ]
  },
  {
   "cell_type": "code",
   "execution_count": 13,
   "id": "2cd36556",
   "metadata": {},
   "outputs": [
    {
     "data": {
      "text/plain": [
       "product\n",
       "Apple     5525\n",
       "Google    2781\n",
       "Name: count, dtype: int64"
      ]
     },
     "execution_count": 13,
     "metadata": {},
     "output_type": "execute_result"
    }
   ],
   "source": [
    "# Drop rows where the product is labeled 'unknown'\n",
    "df = df[df['product'] != 'unknown']\n",
    "\n",
    "# Verify the changes\n",
    "df['product'].value_counts()\n"
   ]
  },
  {
   "cell_type": "markdown",
   "id": "f69fcded",
   "metadata": {},
   "source": [
    "The rows with unknown have been dropped. I will then check if there are any missing values."
   ]
  },
  {
   "cell_type": "code",
   "execution_count": 14,
   "id": "d38f3062",
   "metadata": {},
   "outputs": [
    {
     "data": {
      "text/plain": [
       "tweet        0\n",
       "product      0\n",
       "sentiment    0\n",
       "dtype: int64"
      ]
     },
     "execution_count": 14,
     "metadata": {},
     "output_type": "execute_result"
    }
   ],
   "source": [
    "# Check for missing values in the DataFrame\n",
    "df.isnull().sum()"
   ]
  },
  {
   "cell_type": "markdown",
   "id": "ab13a16a",
   "metadata": {},
   "source": [
    "There are now no missing values in the dataset. \n"
   ]
  },
  {
   "cell_type": "code",
   "execution_count": 15,
   "id": "b0585f19",
   "metadata": {},
   "outputs": [
    {
     "data": {
      "text/plain": [
       "sentiment\n",
       "No emotion toward brand or product    4647\n",
       "Positive emotion                      2940\n",
       "Negative emotion                       569\n",
       "I can't tell                           150\n",
       "Name: count, dtype: int64"
      ]
     },
     "execution_count": 15,
     "metadata": {},
     "output_type": "execute_result"
    }
   ],
   "source": [
    "# check the value counts for the sentiment column\n",
    "df['sentiment'].value_counts()"
   ]
  },
  {
   "cell_type": "markdown",
   "id": "9dfb59a9",
   "metadata": {},
   "source": [
    "There are 4 labels in the sentiment column. The sentiment wordings are quite wordy, so I will change the wordings to Positive, Negative and Neutral and drop the rows where the sentiment is 'I can't tell'"
   ]
  },
  {
   "cell_type": "code",
   "execution_count": 16,
   "id": "10266993",
   "metadata": {},
   "outputs": [
    {
     "name": "stdout",
     "output_type": "stream",
     "text": [
      "sentiment\n",
      "Neutral     4647\n",
      "Positive    2940\n",
      "Negative     569\n",
      "Name: count, dtype: int64\n",
      "\n",
      "                                               tweet product sentiment\n",
      "0  .@wesley83 I have a 3G iPhone. After 3 hrs twe...   Apple  Negative\n",
      "1  @jessedee Know about @fludapp ? Awesome iPad/i...   Apple  Positive\n",
      "2  @swonderlin Can not wait for #iPad 2 also. The...   Apple  Positive\n",
      "3  @sxsw I hope this year's festival isn't as cra...   Apple  Negative\n",
      "4  @sxtxstate great stuff on Fri #SXSW: Marissa M...  Google  Positive\n"
     ]
    }
   ],
   "source": [
    "# Replace sentiments\n",
    "df['sentiment'] = df['sentiment'].replace({\n",
    "    'No emotion toward brand or product': 'Neutral',\n",
    "    'Positive emotion': 'Positive',\n",
    "    'Negative emotion': 'Negative'\n",
    "})\n",
    "\n",
    "# Drop rows where sentiment is 'I can't tell'\n",
    "df = df[df['sentiment'] != \"I can't tell\"]\n",
    "\n",
    "# Verify the changes\n",
    "print(df['sentiment'].value_counts())\n",
    "\n",
    "print()\n",
    "\n",
    "print(df.head())\n"
   ]
  },
  {
   "cell_type": "markdown",
   "id": "00db7cb4",
   "metadata": {},
   "source": [
    "The 'I can't tell' label has been dropped.The tweets are mostly neutral and positive with very few negative tweets, indicative of satisfaction with the products\n"
   ]
  },
  {
   "cell_type": "markdown",
   "id": "46edce20",
   "metadata": {},
   "source": [
    "### 1.2 Data Splitting \n",
    "The data will be will split into the training, validation and test sets. The splits are 70% for training, 15% for validation, and 15% for testing. the validation set will be used to tune the hyperparameters and choose the best model configuration without overfitting the test data."
   ]
  },
  {
   "cell_type": "code",
   "execution_count": 17,
   "id": "5675620d",
   "metadata": {},
   "outputs": [
    {
     "name": "stdout",
     "output_type": "stream",
     "text": [
      "X_train shape: (5709,)\n",
      "X_val shape: (1223,)\n",
      "X_test shape: (1224,)\n",
      "y_train shape: (5709,)\n",
      "y_val shape: (1223,)\n",
      "y_test shape: (1224,)\n"
     ]
    }
   ],
   "source": [
    "# Import the relevant library from scikit-learn to split the data\n",
    "from sklearn.model_selection import train_test_split\n",
    "\n",
    "# DeFine the features and target\n",
    "X = df['tweet']\n",
    "y = df['sentiment']\n",
    "\n",
    "# Split the data into train, validation, and test sets\n",
    "X_train, X_temp, y_train, y_temp = train_test_split(X, y, test_size=0.3, random_state=42)\n",
    "X_val, X_test, y_val, y_test = train_test_split(X_temp, y_temp, test_size=0.5, random_state=42)\n",
    "\n",
    "# Print the shape of the datasets\n",
    "print(\"X_train shape:\", X_train.shape)\n",
    "print(\"X_val shape:\", X_val.shape)\n",
    "print(\"X_test shape:\", X_test.shape)\n",
    "print(\"y_train shape:\", y_train.shape)\n",
    "print(\"y_val shape:\", y_val.shape)\n",
    "print(\"y_test shape:\", y_test.shape)\n"
   ]
  },
  {
   "cell_type": "markdown",
   "id": "1e9ef0b0",
   "metadata": {},
   "source": [
    "### 1.3 Text Transformations\n",
    "In this section, we will start the process of preparing the feature column (tweet) for vectorization. This will involve:\n",
    "- removing unnessary text and symbols like URLs, mentions (@),hashtags(#),links,numbers,punctuation and symbols\n",
    "- convert all text to lowercase to ensure uniformity\n",
    "- apply lemmatization to reduce words to their base forms for consistent analysis and reducing complexity\n",
    "- remove stop words (common words that typically do not carry significant meaning such as \"the,\" \"is,\" \"in,\" \"and,\" etc.). \n",
    "- tokenize the cleaned text into individual words"
   ]
  },
  {
   "cell_type": "code",
   "execution_count": 18,
   "id": "18c2a560",
   "metadata": {},
   "outputs": [
    {
     "name": "stdout",
     "output_type": "stream",
     "text": [
      "Training Set:\n",
      "6360    new iphone autocorrect already tried change qu...\n",
      "904     compiling sxsw list one google doc taking lot ...\n",
      "2285    read google circle rumor today sxsw thought le...\n",
      "5491    going check apple popup shop sxsw sxswi let u ...\n",
      "520     frankenstein amalgamation fragmented digital i...\n",
      "Name: tweet, dtype: object\n",
      "\n",
      "Validation Set:\n",
      "7378    sxsw photography iphone many live photo amp vi...\n",
      "5617    checkins fun need extend beyond fun make check...\n",
      "3256    get tattoo free ipad heard mini cooper would l...\n",
      "2300    buy ipad makeshift sxsw apple store launch day...\n",
      "2443    google bing sitting panel dont look like want ...\n",
      "Name: tweet, dtype: object\n",
      "\n",
      "Test Set:\n",
      "1617         got new iphone app dialy grape sxsw thankyou\n",
      "3961    started using android app totally killer servi...\n",
      "2114    google quash circle rumour launching product s...\n",
      "6747                                       ipad take sxsw\n",
      "698     pic ipadwinning performance sxsw accordion too...\n",
      "Name: tweet, dtype: object\n"
     ]
    }
   ],
   "source": [
    "import re\n",
    "import nltk\n",
    "from nltk.corpus import stopwords\n",
    "from nltk.stem import WordNetLemmatizer\n",
    "\n",
    "# Define a function for text preprocessing\n",
    "def preprocess_text(text):\n",
    "    # Remove URLs\n",
    "    text = re.sub(r'http\\S+|www\\S+|https\\S+', '', text, flags=re.MULTILINE)\n",
    "    # Remove mentions and hashtags\n",
    "    text = re.sub(r'@\\w+|#', '', text)\n",
    "    # Remove [video] and {link}\n",
    "    text = re.sub(r'\\[.*?\\]|\\{.*?\\}', '', text)\n",
    "    # Remove numbers\n",
    "    text = re.sub(r'\\d+', '', text)\n",
    "    # Remove punctuation and symbols\n",
    "    text = re.sub(r'[^\\w\\s]', '', text)\n",
    "    # Convert to lowercase\n",
    "    text = text.lower()\n",
    "    # Remove the word 'rt'\n",
    "    text = re.sub(r'\\brt\\b', '', text)\n",
    "    # Lemmatize text\n",
    "    lemmatizer = WordNetLemmatizer()\n",
    "    text = ' '.join([lemmatizer.lemmatize(word) for word in text.split()])\n",
    "    # Remove stop words\n",
    "    stop_words = set(stopwords.words('english'))\n",
    "    text = ' '.join([word for word in text.split() if word not in stop_words])\n",
    "    return text\n",
    "\n",
    "\n",
    "# Apply the preprocessing function to the text data\n",
    "X_train_preprocessed = X_train.apply(preprocess_text)\n",
    "X_val_preprocessed = X_val.apply(preprocess_text)\n",
    "X_test_preprocessed = X_test.apply(preprocess_text)\n",
    "\n",
    "# Verify the changes\n",
    "print(\"Training Set:\")\n",
    "print(X_train_preprocessed.head())\n",
    "print(\"\\nValidation Set:\")\n",
    "print(X_val_preprocessed.head())\n",
    "print(\"\\nTest Set:\")\n",
    "print(X_test_preprocessed.head())\n",
    "\n"
   ]
  },
  {
   "cell_type": "markdown",
   "id": "307425d1",
   "metadata": {},
   "source": [
    "The feature column has now been transformed into lowercase strings without numbers and symbols. The next step is to tokenize the cleaned text."
   ]
  },
  {
   "cell_type": "code",
   "execution_count": 19,
   "id": "874caaec",
   "metadata": {},
   "outputs": [
    {
     "name": "stdout",
     "output_type": "stream",
     "text": [
      "Training Set - First 5 Rows:\n",
      "                                                  tweet  \\\n",
      "6360  new iphone autocorrect already tried change qu...   \n",
      "904   compiling sxsw list one google doc taking lot ...   \n",
      "2285  read google circle rumor today sxsw thought le...   \n",
      "5491  going check apple popup shop sxsw sxswi let u ...   \n",
      "520   frankenstein amalgamation fragmented digital i...   \n",
      "\n",
      "                                        tweet_tokenized  \n",
      "6360  [new, iphone, autocorrect, already, tried, cha...  \n",
      "904   [compiling, sxsw, list, one, google, doc, taki...  \n",
      "2285  [read, google, circle, rumor, today, sxsw, tho...  \n",
      "5491  [going, check, apple, popup, shop, sxsw, sxswi...  \n",
      "520   [frankenstein, amalgamation, fragmented, digit...  \n",
      "\n",
      "Validation Set - First 5 Rows:\n",
      "                                                  tweet  \\\n",
      "7378  sxsw photography iphone many live photo amp vi...   \n",
      "5617  checkins fun need extend beyond fun make check...   \n",
      "3256  get tattoo free ipad heard mini cooper would l...   \n",
      "2300  buy ipad makeshift sxsw apple store launch day...   \n",
      "2443  google bing sitting panel dont look like want ...   \n",
      "\n",
      "                                        tweet_tokenized  \n",
      "7378  [sxsw, photography, iphone, many, live, photo,...  \n",
      "5617  [checkins, fun, need, extend, beyond, fun, mak...  \n",
      "3256  [get, tattoo, free, ipad, heard, mini, cooper,...  \n",
      "2300  [buy, ipad, makeshift, sxsw, apple, store, lau...  \n",
      "2443  [google, bing, sitting, panel, dont, look, lik...  \n",
      "\n",
      "Test Set - First 5 Rows:\n",
      "                                                  tweet  \\\n",
      "1617       got new iphone app dialy grape sxsw thankyou   \n",
      "3961  started using android app totally killer servi...   \n",
      "2114  google quash circle rumour launching product s...   \n",
      "6747                                     ipad take sxsw   \n",
      "698   pic ipadwinning performance sxsw accordion too...   \n",
      "\n",
      "                                        tweet_tokenized  \n",
      "1617  [got, new, iphone, app, dialy, grape, sxsw, th...  \n",
      "3961  [started, using, android, app, totally, killer...  \n",
      "2114  [google, quash, circle, rumour, launching, pro...  \n",
      "6747                                 [ipad, take, sxsw]  \n",
      "698   [pic, ipadwinning, performance, sxsw, accordio...  \n",
      "\n",
      "Training Set Shape: (5709, 2)\n",
      "Validation Set Shape: (1223, 2)\n",
      "Test Set Shape: (1224, 2)\n"
     ]
    }
   ],
   "source": [
    "from nltk.tokenize import word_tokenize\n",
    "\n",
    "# Create DataFrames to store the data\n",
    "train_df = pd.DataFrame({'tweet': X_train_preprocessed})\n",
    "val_df = pd.DataFrame({'tweet': X_val_preprocessed})\n",
    "test_df = pd.DataFrame({'tweet': X_test_preprocessed})\n",
    "\n",
    "# Define a function for tokenization\n",
    "def tokenize_text(text):\n",
    "    # Tokenize the text\n",
    "    tokens = word_tokenize(text)\n",
    "    return tokens\n",
    "\n",
    "# Step 2: Create a new column for the tokenized text\n",
    "train_df['tweet_tokenized'] = train_df['tweet'].apply(tokenize_text)\n",
    "val_df['tweet_tokenized'] = val_df['tweet'].apply(tokenize_text)\n",
    "test_df['tweet_tokenized'] = test_df['tweet'].apply(tokenize_text)\n",
    "\n",
    "# Display the first 5 rows of each set\n",
    "print(\"Training Set - First 5 Rows:\")\n",
    "print(train_df.head())\n",
    "print(\"\\nValidation Set - First 5 Rows:\")\n",
    "print(val_df.head())\n",
    "print(\"\\nTest Set - First 5 Rows:\")\n",
    "print(test_df.head())\n",
    "\n",
    "# Check the shapes of the DataFrames\n",
    "print(\"\\nTraining Set Shape:\", train_df.shape)\n",
    "print(\"Validation Set Shape:\", val_df.shape)\n",
    "print(\"Test Set Shape:\", test_df.shape)"
   ]
  },
  {
   "cell_type": "markdown",
   "id": "ee016b23",
   "metadata": {},
   "source": [
    "The tweets are now tokenized into individual words and a dataframe created with two columns - the preprocessed tweets and the tokenized tweets. The next step is to perform Exploratory Data Analysis (EDA) before vectorization"
   ]
  },
  {
   "cell_type": "markdown",
   "id": "18bf4a91",
   "metadata": {},
   "source": [
    "### 1.4 Exploratory Data Analysis (EDA) \n",
    "In this section I will: \n",
    "\n",
    "- Analyze Sentiment Distribution: Use bar charts and value counts to understand the class balance of sentiment labels (positive, negative, neutral). This helps identify any class imbalances.\n",
    "\n",
    "- Visualize Top Common Words: Identify and display the top 10 most common words in the dataset. This gives an overview of the predominant terms.\n",
    "\n",
    "- Create Word Clouds: Generate word clouds for positive, negative, and neutral tweets to visualize the most common words in each sentiment class. This provides a visual representation of word frequency and sentiment-specific terms.\n",
    "\n",
    "- Visualize Bigrams: Use bar charts to identify and display common word pairs (bigrams) in the dataset, and for each sentiment class. This reveals frequently occurring word combinations and their sentiment context.\n",
    "\n",
    "To perform EDA I will combine the train_df and the y_train (sentiments) into a single data frame. However I will use a copy   of the train_df to avoid modifying the original DataFrame"
   ]
  },
  {
   "cell_type": "code",
   "execution_count": 20,
   "id": "425449ad",
   "metadata": {},
   "outputs": [
    {
     "name": "stdout",
     "output_type": "stream",
     "text": [
      "(5709,)\n",
      "(5709, 2)\n"
     ]
    }
   ],
   "source": [
    "# Confirm that the number of rows are the same\n",
    "print(y_train.shape)\n",
    "print(train_df.shape)"
   ]
  },
  {
   "cell_type": "code",
   "execution_count": 21,
   "id": "861b4dab",
   "metadata": {},
   "outputs": [
    {
     "data": {
      "text/html": [
       "<div>\n",
       "<style scoped>\n",
       "    .dataframe tbody tr th:only-of-type {\n",
       "        vertical-align: middle;\n",
       "    }\n",
       "\n",
       "    .dataframe tbody tr th {\n",
       "        vertical-align: top;\n",
       "    }\n",
       "\n",
       "    .dataframe thead th {\n",
       "        text-align: right;\n",
       "    }\n",
       "</style>\n",
       "<table border=\"1\" class=\"dataframe\">\n",
       "  <thead>\n",
       "    <tr style=\"text-align: right;\">\n",
       "      <th></th>\n",
       "      <th>tweet</th>\n",
       "      <th>tweet_tokenized</th>\n",
       "      <th>target</th>\n",
       "    </tr>\n",
       "  </thead>\n",
       "  <tbody>\n",
       "    <tr>\n",
       "      <th>6360</th>\n",
       "      <td>new iphone autocorrect already tried change qu...</td>\n",
       "      <td>[new, iphone, autocorrect, already, tried, cha...</td>\n",
       "      <td>Negative</td>\n",
       "    </tr>\n",
       "    <tr>\n",
       "      <th>904</th>\n",
       "      <td>compiling sxsw list one google doc taking lot ...</td>\n",
       "      <td>[compiling, sxsw, list, one, google, doc, taki...</td>\n",
       "      <td>Negative</td>\n",
       "    </tr>\n",
       "    <tr>\n",
       "      <th>2285</th>\n",
       "      <td>read google circle rumor today sxsw thought le...</td>\n",
       "      <td>[read, google, circle, rumor, today, sxsw, tho...</td>\n",
       "      <td>Neutral</td>\n",
       "    </tr>\n",
       "    <tr>\n",
       "      <th>5491</th>\n",
       "      <td>going check apple popup shop sxsw sxswi let u ...</td>\n",
       "      <td>[going, check, apple, popup, shop, sxsw, sxswi...</td>\n",
       "      <td>Neutral</td>\n",
       "    </tr>\n",
       "    <tr>\n",
       "      <th>520</th>\n",
       "      <td>frankenstein amalgamation fragmented digital i...</td>\n",
       "      <td>[frankenstein, amalgamation, fragmented, digit...</td>\n",
       "      <td>Neutral</td>\n",
       "    </tr>\n",
       "  </tbody>\n",
       "</table>\n",
       "</div>"
      ],
      "text/plain": [
       "                                                  tweet  \\\n",
       "6360  new iphone autocorrect already tried change qu...   \n",
       "904   compiling sxsw list one google doc taking lot ...   \n",
       "2285  read google circle rumor today sxsw thought le...   \n",
       "5491  going check apple popup shop sxsw sxswi let u ...   \n",
       "520   frankenstein amalgamation fragmented digital i...   \n",
       "\n",
       "                                        tweet_tokenized    target  \n",
       "6360  [new, iphone, autocorrect, already, tried, cha...  Negative  \n",
       "904   [compiling, sxsw, list, one, google, doc, taki...  Negative  \n",
       "2285  [read, google, circle, rumor, today, sxsw, tho...   Neutral  \n",
       "5491  [going, check, apple, popup, shop, sxsw, sxswi...   Neutral  \n",
       "520   [frankenstein, amalgamation, fragmented, digit...   Neutral  "
      ]
     },
     "execution_count": 21,
     "metadata": {},
     "output_type": "execute_result"
    }
   ],
   "source": [
    "# Combine train_df and y_train\n",
    "train_eda_df = train_df.copy()\n",
    "train_eda_df['target'] = y_train.values\n",
    "\n",
    "# Display the first few rows of the combined DataFrame\n",
    "train_eda_df.head()\n",
    "\n"
   ]
  },
  {
   "cell_type": "code",
   "execution_count": 22,
   "id": "2c9c7fe5",
   "metadata": {},
   "outputs": [
    {
     "data": {
      "text/plain": [
       "(5709, 3)"
      ]
     },
     "execution_count": 22,
     "metadata": {},
     "output_type": "execute_result"
    }
   ],
   "source": [
    "train_eda_df.shape"
   ]
  },
  {
   "cell_type": "code",
   "execution_count": 23,
   "id": "687bf99e",
   "metadata": {},
   "outputs": [
    {
     "data": {
      "text/plain": [
       "target\n",
       "Neutral     3290\n",
       "Positive    2035\n",
       "Negative     384\n",
       "Name: count, dtype: int64"
      ]
     },
     "execution_count": 23,
     "metadata": {},
     "output_type": "execute_result"
    }
   ],
   "source": [
    "train_eda_df['target'].value_counts()"
   ]
  },
  {
   "cell_type": "markdown",
   "id": "ed911f17",
   "metadata": {},
   "source": [
    "#### 1.4.1 Analyze Sentiment Distribution"
   ]
  },
  {
   "cell_type": "code",
   "execution_count": 24,
   "id": "49e39e96",
   "metadata": {},
   "outputs": [
    {
     "data": {
      "image/png": "[encoded data removed]",
      "text/plain": [
       "<Figure size 800x600 with 1 Axes>"
      ]
     },
     "metadata": {},
     "output_type": "display_data"
    }
   ],
   "source": [
    "import matplotlib.pyplot as plt\n",
    "\n",
    "# Count the sentiment labels\n",
    "sentiment_counts = train_eda_df['target'].value_counts()\n",
    "\n",
    "# Plot the sentiment distribution\n",
    "plt.figure(figsize=(8, 6))\n",
    "sentiment_counts.plot(kind='bar', color='blue')\n",
    "plt.title('Sentiment Distribution')\n",
    "plt.xlabel('Sentiment')\n",
    "plt.ylabel('Count')\n",
    "plt.show()\n"
   ]
  },
  {
   "cell_type": "markdown",
   "id": "34cd085f",
   "metadata": {},
   "source": [
    "The tweets are mostly neutral and positive with very few negative tweets, indicative of satisfaction with the products"
   ]
  },
  {
   "cell_type": "markdown",
   "id": "fdc43e7c",
   "metadata": {},
   "source": [
    "#### 1.4.2 Visualize Top Common Words"
   ]
  },
  {
   "cell_type": "code",
   "execution_count": 25,
   "id": "ed0c4e1b",
   "metadata": {},
   "outputs": [
    {
     "data": {
      "image/png": "[encoded data removed]",
      "text/plain": [
       "<Figure size 1000x600 with 1 Axes>"
      ]
     },
     "metadata": {},
     "output_type": "display_data"
    }
   ],
   "source": [
    "from collections import Counter\n",
    "\n",
    "# Tokenize the cleaned text data\n",
    "all_words = ' '.join(train_eda_df['tweet']).split()\n",
    "\n",
    "# Get the top 10 common words\n",
    "common_words = Counter(all_words).most_common(10)\n",
    "\n",
    "# Create a DataFrame for visualization\n",
    "common_words_df = pd.DataFrame(common_words, columns=['Word', 'Count'])\n",
    "\n",
    "# Plot the top common words\n",
    "plt.figure(figsize=(10, 6))\n",
    "plt.bar(common_words_df['Word'], common_words_df['Count'], color='blue')\n",
    "plt.title('Top 10 Common Words')\n",
    "plt.xlabel('Word')\n",
    "plt.ylabel('Count')\n",
    "plt.show()\n"
   ]
  },
  {
   "cell_type": "markdown",
   "id": "f2a6000a",
   "metadata": {},
   "source": [
    "As is to be expected because the tweets are about Apple and Google products, the top words include ipad, apple, iphone, meaning these words are common among tweets. The use of TF-IDF vectorization will put less weight on these words during modeling. However, I will visualize the top 10 words again excluding those common words. I will also exclude sxsw which is a reference to a conference founded in 1987 in Austin, Texas. SXSW® is best known for its conference and festivals that celebrate the convergence of tech, film, music, education, and culture.I will also exclude austin."
   ]
  },
  {
   "cell_type": "code",
   "execution_count": 29,
   "id": "af2a7ccb",
   "metadata": {},
   "outputs": [
    {
     "data": {
      "image/png": "[encoded data removed]",
      "text/plain": [
       "<Figure size 1000x600 with 1 Axes>"
      ]
     },
     "metadata": {},
     "output_type": "display_data"
    }
   ],
   "source": [
    "\n",
    "# List of words to exclude\n",
    "exclude_words = {'ipad', 'google', 'apple', 'iphone', 'app','android','sxsw','austin'}\n",
    "\n",
    "# Tokenize the cleaned text data\n",
    "all_words = ' '.join(train_eda_df['tweet']).split()\n",
    "\n",
    "# Remove the exclude words from the tokenized list\n",
    "filtered_words = [word for word in all_words if word not in exclude_words]\n",
    "\n",
    "# Get the top 10 common words\n",
    "common_words = Counter(filtered_words).most_common(10)\n",
    "\n",
    "# Create a DataFrame for visualization\n",
    "common_words_df = pd.DataFrame(common_words, columns=['Word', 'Count'])\n",
    "\n",
    "# Plot the top common words excluding specified words\n",
    "plt.figure(figsize=(10, 6))\n",
    "plt.bar(common_words_df['Word'], common_words_df['Count'], color='blue')\n",
    "plt.title('Top 10 Common Words (Excluding Specific Words)')\n",
    "plt.xlabel('Word')\n",
    "plt.ylabel('Count')\n",
    "plt.show()\n"
   ]
  },
  {
   "cell_type": "markdown",
   "id": "6302dfbb",
   "metadata": {},
   "source": [
    "### 1.5 Text Data Vectorization\n",
    "I will use Term Frequency=Inverse Document Frequency (TF-IDF) to transform text data into numerical features, capturing the importance of words and their combinations as unigrams(single words) and bigrams(pairs of consecutiver words).\n",
    "Using TF-IDF is important because it effectively weighs the significance of words in a document relative to the entire dataset, helping to distinguish relevant terms from common ones. Incorporating bigrams as features captures contextual information by considering pairs of consecutive words, enhancing the model's ability to understand and analyze the relationships between words in the text."
   ]
  },
  {
   "cell_type": "code",
   "execution_count": 26,
   "id": "2e783fa0",
   "metadata": {},
   "outputs": [],
   "source": [
    "# from sklearn.feature_extraction.text import TfidfVectorizer\n",
    "\n",
    "# # Function to join the list of tokens back into a single string\n",
    "# def join_tokens(tokens):\n",
    "#     return ' '.join(tokens)\n",
    "\n",
    "# # Join tokens for each preprocessed set\n",
    "# X_train_joined = X_train_tokenized.apply(join_tokens)\n",
    "# X_val_joined = X_val_tokenized.apply(join_tokens)\n",
    "# X_test_joined = X_test_tokenized.apply(join_tokens)\n",
    "\n",
    "# # TF-IDF Vectorization for unigrams and bigrams\n",
    "# tfidf_vectorizer = TfidfVectorizer(ngram_range=(1, 2))\n",
    "\n",
    "# # Apply TF-IDF to the joined tokenized text\n",
    "# train_tfidf = tfidf_vectorizer.fit_transform(X_train_joined)\n",
    "# val_tfidf = tfidf_vectorizer.transform(X_val_joined)\n",
    "# test_tfidf = tfidf_vectorizer.transform(X_test_joined)\n",
    "\n",
    "# # Verify the shape of the transformed data\n",
    "# print(\"Training set shape:\", train_tfidf.shape)\n",
    "# print(\"Validation set shape:\", val_tfidf.shape)\n",
    "# print(\"Testing set shape:\", test_tfidf.shape)\n",
    "\n",
    "# # print()  \n",
    "\n",
    "# # # Display the first few rows of the dense arrays\n",
    "# print(\"Training set:\", train_tfidf.toarray()[:5])\n",
    "# print(\"Validation set:\", val_tfidf.toarray()[:5])\n",
    "# print(\"Testing set:\", test_tfidf.toarray()[:5])\n",
    "\n"
   ]
  },
  {
   "cell_type": "markdown",
   "id": "aa764a3c",
   "metadata": {},
   "source": [
    "As expected, the features are quite large because of the inclusion of bigrams. Each row corresponds to a document (a tweet), and each column represents a unique term (word or n-gram) from the entire corpus.\n",
    "\n",
    "The fact that the matrices are sparse (i.e., having many zeros) is expected and typical for TF-IDF representations, especially when using n-grams. Sparse matrices are well-suited for the machine learning models that I plan to use.\n",
    "\n",
    "I intend to use Principal Component Analysis (PCA), a method that converts the original features into a new set of orthogonal components, maximizing the variance captured in the data. I will apply PCA after evaluating the baseline model with all features to determine if performance improves with the reduced feature set.\n",
    "\n",
    "Now I will proceed to perform "
   ]
  },
  {
   "cell_type": "code",
   "execution_count": null,
   "id": "f6e6c735",
   "metadata": {},
   "outputs": [],
   "source": []
  }
 ],
 "metadata": {
  "kernelspec": {
   "display_name": "Python (learn-env)",
   "language": "python",
   "name": "learn-env"
  },
  "language_info": {
   "codemirror_mode": {
    "name": "ipython",
    "version": 3
   },
   "file_extension": ".py",
   "mimetype": "text/x-python",
   "name": "python",
   "nbconvert_exporter": "python",
   "pygments_lexer": "ipython3",
   "version": "3.8.16"
  }
 },
 "nbformat": 4,
 "nbformat_minor": 5
}
